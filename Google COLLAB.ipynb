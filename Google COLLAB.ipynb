{
  "nbformat": 4,
  "nbformat_minor": 0,
  "metadata": {
    "colab": {
      "provenance": [],
      "toc_visible": true
    },
    "kernelspec": {
      "name": "python3",
      "display_name": "Python 3"
    },
    "language_info": {
      "name": "python"
    }
  },
  "cells": [
    {
      "cell_type": "markdown",
      "source": [
        "# Новый раздел"
      ],
      "metadata": {
        "id": "KTZ0AYgkAacX"
      }
    },
    {
      "cell_type": "code",
      "source": [
        "!gdown --id 1rxqLa6k-ZqKMuMZaXHh_MfOeDUbZWtu0"
      ],
      "metadata": {
        "colab": {
          "base_uri": "https://localhost:8080/"
        },
        "id": "obxFwluCAbOw",
        "outputId": "3d88619f-785c-4a52-ecf6-ccfe90146be2"
      },
      "execution_count": 13,
      "outputs": [
        {
          "output_type": "stream",
          "name": "stdout",
          "text": [
            "/usr/local/lib/python3.10/dist-packages/gdown/__main__.py:132: FutureWarning: Option `--id` was deprecated in version 4.3.1 and will be removed in 5.0. You don't need to pass it anymore to use a file ID.\n",
            "  warnings.warn(\n",
            "Downloading...\n",
            "From (original): https://drive.google.com/uc?id=1rxqLa6k-ZqKMuMZaXHh_MfOeDUbZWtu0\n",
            "From (redirected): https://drive.google.com/uc?id=1rxqLa6k-ZqKMuMZaXHh_MfOeDUbZWtu0&confirm=t&uuid=bdb26563-7f38-4858-8707-4fbed3b05281\n",
            "To: /content/dino-dragon.zip\n",
            "100% 109M/109M [00:00<00:00, 214MB/s] \n"
          ]
        }
      ]
    },
    {
      "cell_type": "code",
      "source": [
        "!unzip -q dino-dragon.zip\n"
      ],
      "metadata": {
        "colab": {
          "base_uri": "https://localhost:8080/"
        },
        "id": "jhsuAJ62AjGW",
        "outputId": "4fb1eee3-b7d4-432c-9948-3e96b57cdc08"
      },
      "execution_count": 14,
      "outputs": [
        {
          "output_type": "stream",
          "name": "stdout",
          "text": [
            "replace test/dino/001db8b8-33ff-44b3-8f50-325f4ab4f713.jpg? [y]es, [n]o, [A]ll, [N]one, [r]ename: !unzip -o -q file_name.zip\n",
            "error:  invalid response [!unzip -o]\n",
            "replace test/dino/001db8b8-33ff-44b3-8f50-325f4ab4f713.jpg? [y]es, [n]o, [A]ll, [N]one, [r]ename: error:  invalid response [ -q file_]\n",
            "replace test/dino/001db8b8-33ff-44b3-8f50-325f4ab4f713.jpg? [y]es, [n]o, [A]ll, [N]one, [r]ename: replace test/dino/009d2929-87f4-43d8-8b7d-501d8a006823.jpg? [y]es, [n]o, [A]ll, [N]one, [r]ename: [A]ll\n",
            "error:  invalid response [[A]ll]\n",
            "replace test/dino/009d2929-87f4-43d8-8b7d-501d8a006823.jpg? [y]es, [n]o, [A]ll, [N]one, [r]ename: "
          ]
        }
      ]
    },
    {
      "cell_type": "code",
      "source": [
        "!ls /content/\n",
        "\n"
      ],
      "metadata": {
        "colab": {
          "base_uri": "https://localhost:8080/"
        },
        "id": "IOB0zndPDdO1",
        "outputId": "9e83ab9f-e9ef-4e29-fcc2-2efc8d2b8aff"
      },
      "execution_count": 16,
      "outputs": [
        {
          "output_type": "stream",
          "name": "stdout",
          "text": [
            "dino-dragon.zip  sample_data  test  train\n"
          ]
        }
      ]
    },
    {
      "cell_type": "code",
      "source": [
        "from tensorflow.keras.preprocessing.image import ImageDataGenerator\n",
        "\n",
        "# Создание объектов ImageDataGenerator для предварительной обработки изображений\n",
        "train_datagen = ImageDataGenerator(rescale=1./255)\n",
        "test_datagen = ImageDataGenerator(rescale=1./255)\n",
        "\n",
        "# Создание генераторов для обучающих и тестовых данных\n",
        "train_generator = train_datagen.flow_from_directory(\n",
        "    '/content/train',\n",
        "    target_size=(150, 150),\n",
        "    batch_size=20,\n",
        "    class_mode='binary')\n",
        "\n",
        "test_generator = test_datagen.flow_from_directory(\n",
        "    '/content/test',\n",
        "    target_size=(150, 150),\n",
        "    batch_size=20,\n",
        "    class_mode='binary')\n"
      ],
      "metadata": {
        "colab": {
          "base_uri": "https://localhost:8080/"
        },
        "id": "Wg6ZPXsuDsQQ",
        "outputId": "f782ac57-6286-4f6b-e56e-5ca653eb395b"
      },
      "execution_count": 17,
      "outputs": [
        {
          "output_type": "stream",
          "name": "stdout",
          "text": [
            "Found 1594 images belonging to 2 classes.\n",
            "Found 394 images belonging to 2 classes.\n"
          ]
        }
      ]
    },
    {
      "cell_type": "code",
      "source": [
        "from tensorflow.keras.models import Sequential\n",
        "from tensorflow.keras.layers import Conv2D, MaxPooling2D, Flatten, Dense\n",
        "\n",
        "model = Sequential([\n",
        "    Conv2D(32, (3, 3), activation='relu', input_shape=(150, 150, 3)),\n",
        "    MaxPooling2D(2, 2),\n",
        "    Flatten(),\n",
        "    Dense(64, activation='relu'),\n",
        "    Dense(1, activation='sigmoid')  # Используется sigmoid, так как это бинарная классификация\n",
        "])\n",
        "\n",
        "from tensorflow.keras.optimizers import SGD\n",
        "\n",
        "model.compile(optimizer=SGD(lr=0.002, momentum=0.8),\n",
        "              loss='binary_crossentropy',\n",
        "              metrics=['accuracy'])\n",
        "\n",
        "model.summary()\n"
      ],
      "metadata": {
        "colab": {
          "base_uri": "https://localhost:8080/"
        },
        "id": "18fjfRO0EUWv",
        "outputId": "83d16415-d197-4137-acf6-9b7cb630dc9d"
      },
      "execution_count": 18,
      "outputs": [
        {
          "output_type": "stream",
          "name": "stderr",
          "text": [
            "WARNING:absl:`lr` is deprecated in Keras optimizer, please use `learning_rate` or use the legacy optimizer, e.g.,tf.keras.optimizers.legacy.SGD.\n"
          ]
        },
        {
          "output_type": "stream",
          "name": "stdout",
          "text": [
            "Model: \"sequential\"\n",
            "_________________________________________________________________\n",
            " Layer (type)                Output Shape              Param #   \n",
            "=================================================================\n",
            " conv2d (Conv2D)             (None, 148, 148, 32)      896       \n",
            "                                                                 \n",
            " max_pooling2d (MaxPooling2  (None, 74, 74, 32)        0         \n",
            " D)                                                              \n",
            "                                                                 \n",
            " flatten (Flatten)           (None, 175232)            0         \n",
            "                                                                 \n",
            " dense (Dense)               (None, 64)                11214912  \n",
            "                                                                 \n",
            " dense_1 (Dense)             (None, 1)                 65        \n",
            "                                                                 \n",
            "=================================================================\n",
            "Total params: 11215873 (42.79 MB)\n",
            "Trainable params: 11215873 (42.79 MB)\n",
            "Non-trainable params: 0 (0.00 Byte)\n",
            "_________________________________________________________________\n"
          ]
        }
      ]
    },
    {
      "cell_type": "code",
      "source": [
        "history = model.fit(\n",
        "    train_generator,\n",
        "    epochs=10,\n",
        "    validation_data=test_generator)\n"
      ],
      "metadata": {
        "colab": {
          "base_uri": "https://localhost:8080/"
        },
        "id": "envm7vtoEWQR",
        "outputId": "9d314f75-e378-417f-85bd-7a5223b90519"
      },
      "execution_count": 19,
      "outputs": [
        {
          "output_type": "stream",
          "name": "stdout",
          "text": [
            "Epoch 1/10\n",
            "80/80 [==============================] - 41s 492ms/step - loss: 0.6503 - accuracy: 0.6412 - val_loss: 0.4383 - val_accuracy: 0.8122\n",
            "Epoch 2/10\n",
            "80/80 [==============================] - 40s 498ms/step - loss: 0.4569 - accuracy: 0.7999 - val_loss: 0.4933 - val_accuracy: 0.7741\n",
            "Epoch 3/10\n",
            "80/80 [==============================] - 39s 492ms/step - loss: 0.3843 - accuracy: 0.8325 - val_loss: 0.3626 - val_accuracy: 0.8579\n",
            "Epoch 4/10\n",
            "80/80 [==============================] - 42s 519ms/step - loss: 0.2772 - accuracy: 0.8883 - val_loss: 0.3263 - val_accuracy: 0.8706\n",
            "Epoch 5/10\n",
            "80/80 [==============================] - 40s 495ms/step - loss: 0.2054 - accuracy: 0.9285 - val_loss: 0.2905 - val_accuracy: 0.8680\n",
            "Epoch 6/10\n",
            "80/80 [==============================] - 42s 529ms/step - loss: 0.1107 - accuracy: 0.9693 - val_loss: 0.3205 - val_accuracy: 0.8553\n",
            "Epoch 7/10\n",
            "80/80 [==============================] - 44s 547ms/step - loss: 0.0395 - accuracy: 0.9944 - val_loss: 0.2912 - val_accuracy: 0.8782\n",
            "Epoch 8/10\n",
            "80/80 [==============================] - 42s 526ms/step - loss: 0.0184 - accuracy: 0.9987 - val_loss: 0.2934 - val_accuracy: 0.8782\n",
            "Epoch 9/10\n",
            "80/80 [==============================] - 43s 541ms/step - loss: 0.0069 - accuracy: 0.9994 - val_loss: 0.3180 - val_accuracy: 0.8909\n",
            "Epoch 10/10\n",
            "80/80 [==============================] - 43s 536ms/step - loss: 0.0051 - accuracy: 1.0000 - val_loss: 0.2983 - val_accuracy: 0.8807\n"
          ]
        }
      ]
    },
    {
      "cell_type": "code",
      "source": [
        "import matplotlib.pyplot as plt\n",
        "\n",
        "acc = history.history['accuracy']\n",
        "val_acc = history.history['val_accuracy']\n",
        "loss = history.history['loss']\n",
        "val_loss = history.history['val_loss']\n",
        "epochs = range(1, len(acc) + 1)\n",
        "\n",
        "plt.plot(epochs, acc, 'bo', label='Training acc')\n",
        "plt.plot(epochs, val_acc, 'b', label='Validation acc')\n",
        "plt.title('Training and validation accuracy')\n",
        "plt.legend()\n",
        "\n",
        "plt.figure()\n",
        "\n",
        "plt.plot(epochs, loss, 'bo', label='Training loss')\n",
        "plt.plot(epochs, val_loss, 'b', label='Validation loss')\n",
        "plt.title('Training and validation loss')\n",
        "plt.legend()\n",
        "\n",
        "plt.show()\n"
      ],
      "metadata": {
        "colab": {
          "base_uri": "https://localhost:8080/",
          "height": 887
        },
        "id": "GnPJI4QkEY0A",
        "outputId": "f480c8de-c14d-45ee-fca2-0ee800d8a49a"
      },
      "execution_count": 20,
      "outputs": [
        {
          "output_type": "display_data",
          "data": {
            "text/plain": [
              "<Figure size 640x480 with 1 Axes>"
            ],
            "image/png": "[encoded data removed]"
          },
          "metadata": {}
        },
        {
          "output_type": "display_data",
          "data": {
            "text/plain": [
              "<Figure size 640x480 with 1 Axes>"
            ],
            "image/png": "[encoded data removed]"
          },
          "metadata": {}
        }
      ]
    },
    {
      "cell_type": "code",
      "source": [],
      "metadata": {
        "id": "TyI5aiNcL6PB"
      },
      "execution_count": null,
      "outputs": []
    },
    {
      "cell_type": "code",
      "source": [],
      "metadata": {
        "id": "TW8rFskiL7mZ"
      },
      "execution_count": null,
      "outputs": []
    },
    {
      "cell_type": "code",
      "source": [
        "model.summary()\n"
      ],
      "metadata": {
        "colab": {
          "base_uri": "https://localhost:8080/"
        },
        "id": "xe7aIZixJkmu",
        "outputId": "4fd28d37-e1d2-439c-dc24-4a04c6b0c845"
      },
      "execution_count": 21,
      "outputs": [
        {
          "output_type": "stream",
          "name": "stdout",
          "text": [
            "Model: \"sequential\"\n",
            "_________________________________________________________________\n",
            " Layer (type)                Output Shape              Param #   \n",
            "=================================================================\n",
            " conv2d (Conv2D)             (None, 148, 148, 32)      896       \n",
            "                                                                 \n",
            " max_pooling2d (MaxPooling2  (None, 74, 74, 32)        0         \n",
            " D)                                                              \n",
            "                                                                 \n",
            " flatten (Flatten)           (None, 175232)            0         \n",
            "                                                                 \n",
            " dense (Dense)               (None, 64)                11214912  \n",
            "                                                                 \n",
            " dense_1 (Dense)             (None, 1)                 65        \n",
            "                                                                 \n",
            "=================================================================\n",
            "Total params: 11215873 (42.79 MB)\n",
            "Trainable params: 11215873 (42.79 MB)\n",
            "Non-trainable params: 0 (0.00 Byte)\n",
            "_________________________________________________________________\n"
          ]
        }
      ]
    },
    {
      "cell_type": "code",
      "source": [
        "import numpy as np\n",
        "\n",
        "# Расчет медианы точности обучения\n",
        "median_accuracy = np.median(history.history['accuracy'])\n",
        "\n",
        "# Расчет стандартного отклонения потерь в процессе обучения\n",
        "std_loss = np.std(history.history['loss'])\n",
        "\n",
        "print(f\"Медиана точности обучения: {median_accuracy}\")\n",
        "print(f\"Стандартное отклонение потерь: {std_loss}\")\n"
      ],
      "metadata": {
        "colab": {
          "base_uri": "https://localhost:8080/"
        },
        "id": "vP8YTLJVKkOW",
        "outputId": "a979aec4-9d38-48b2-9caf-f1d437964e1d"
      },
      "execution_count": 22,
      "outputs": [
        {
          "output_type": "stream",
          "name": "stdout",
          "text": [
            "Медиана точности обучения: 0.9488707780838013\n",
            "Стандартное отклонение потерь: 0.211731105906966\n"
          ]
        }
      ]
    },
    {
      "cell_type": "code",
      "source": [
        "# Продолжение обучения модели на дополнительных 10 эпохах\n",
        "history_additional = model.fit(\n",
        "    train_generator,\n",
        "    epochs=10,\n",
        "    validation_data=test_generator\n",
        ")\n",
        "\n",
        "# Вычисление среднего значения потерь на тестовом наборе данных по всем эпохам после аугментации\n",
        "mean_test_loss = np.mean(history_additional.history['val_loss'])\n",
        "\n",
        "# Вычисление среднего значения точности на тестовом наборе данных за последние 5 эпох после аугментации\n",
        "mean_last_5_accuracy = np.mean(history_additional.history['val_accuracy'][-5:])\n",
        "\n",
        "print(\"Среднее значение потерь на тестовом наборе данных после аугментации:\", mean_test_loss)\n",
        "print(\"Среднее значение точности на тестовом наборе данных за последние 5 эпох после аугментации:\", mean_last_5_accuracy)\n"
      ],
      "metadata": {
        "colab": {
          "base_uri": "https://localhost:8080/"
        },
        "id": "T0YfGBIPL9Lh",
        "outputId": "05bceae8-dcc9-4181-d590-89de4bf51dbf"
      },
      "execution_count": 24,
      "outputs": [
        {
          "output_type": "stream",
          "name": "stdout",
          "text": [
            "Epoch 1/10\n",
            "80/80 [==============================] - 41s 502ms/step - loss: 0.0033 - accuracy: 1.0000 - val_loss: 0.3041 - val_accuracy: 0.8858\n",
            "Epoch 2/10\n",
            "80/80 [==============================] - 41s 504ms/step - loss: 0.0024 - accuracy: 1.0000 - val_loss: 0.3122 - val_accuracy: 0.8883\n",
            "Epoch 3/10\n",
            "80/80 [==============================] - 40s 506ms/step - loss: 0.0021 - accuracy: 1.0000 - val_loss: 0.3188 - val_accuracy: 0.8782\n",
            "Epoch 4/10\n",
            "80/80 [==============================] - 41s 511ms/step - loss: 0.0017 - accuracy: 1.0000 - val_loss: 0.3228 - val_accuracy: 0.8883\n",
            "Epoch 5/10\n",
            "80/80 [==============================] - 42s 519ms/step - loss: 0.0014 - accuracy: 1.0000 - val_loss: 0.3257 - val_accuracy: 0.8832\n",
            "Epoch 6/10\n",
            "80/80 [==============================] - 42s 522ms/step - loss: 0.0013 - accuracy: 1.0000 - val_loss: 0.3297 - val_accuracy: 0.8807\n",
            "Epoch 7/10\n",
            "80/80 [==============================] - 41s 509ms/step - loss: 0.0011 - accuracy: 1.0000 - val_loss: 0.3348 - val_accuracy: 0.8832\n",
            "Epoch 8/10\n",
            "80/80 [==============================] - 41s 511ms/step - loss: 0.0010 - accuracy: 1.0000 - val_loss: 0.3354 - val_accuracy: 0.8858\n",
            "Epoch 9/10\n",
            "80/80 [==============================] - 41s 514ms/step - loss: 9.1735e-04 - accuracy: 1.0000 - val_loss: 0.3415 - val_accuracy: 0.8858\n",
            "Epoch 10/10\n",
            "80/80 [==============================] - 42s 529ms/step - loss: 8.6251e-04 - accuracy: 1.0000 - val_loss: 0.3422 - val_accuracy: 0.8858\n",
            "Среднее значение потерь на тестовом наборе данных после аугментации: 0.32672467529773713\n",
            "Среднее значение точности на тестовом наборе данных за последние 5 эпох после аугментации: 0.8842639803886414\n"
          ]
        }
      ]
    }
  ]
}